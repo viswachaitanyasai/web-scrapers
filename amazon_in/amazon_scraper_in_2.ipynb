{
 "cells": [
  {
   "cell_type": "code",
   "execution_count": 37,
   "metadata": {},
   "outputs": [
    {
     "name": "stderr",
     "output_type": "stream",
     "text": [
      "[nltk_data] Downloading package stopwords to\n",
      "[nltk_data]     C:\\Users\\KIIT\\AppData\\Roaming\\nltk_data...\n",
      "[nltk_data]   Package stopwords is already up-to-date!\n",
      "[nltk_data] Downloading package punkt to\n",
      "[nltk_data]     C:\\Users\\KIIT\\AppData\\Roaming\\nltk_data...\n",
      "[nltk_data]   Package punkt is already up-to-date!\n",
      "[nltk_data] Downloading package wordnet to\n",
      "[nltk_data]     C:\\Users\\KIIT\\AppData\\Roaming\\nltk_data...\n",
      "[nltk_data]   Package wordnet is already up-to-date!\n"
     ]
    }
   ],
   "source": [
    "import requests\n",
    "from bs4 import BeautifulSoup\n",
    "import pandas as pd\n",
    "import re\n",
    "import nltk\n",
    "nltk.download('stopwords')\n",
    "from nltk.corpus import stopwords\n",
    "from nltk.stem import WordNetLemmatizer\n",
    "from nltk.tokenize import word_tokenize\n",
    "nltk.download('punkt')\n",
    "nltk.download('wordnet')\n",
    "from langdetect import detect, DetectorFactory"
   ]
  },
  {
   "cell_type": "code",
   "execution_count": 38,
   "metadata": {},
   "outputs": [
    {
     "data": {
      "text/plain": [
       "['amazon_in_urls', 'txt']"
      ]
     },
     "execution_count": 38,
     "metadata": {},
     "output_type": "execute_result"
    }
   ],
   "source": [
    "filename = 'amazon_in_urls.txt'\n",
    "file = open('amazon_in_urls.txt')\n",
    "LIST=re.split(\"\\r\\n|\\n\",file.read())\n",
    "file.close()\n",
    "# for i in LIST:\n",
    "#     print(i.split('~')[-1])\n",
    "#     url.append(i.split('~')[-1])\n",
    "base_url = LIST[0].split('~')[-1]\n",
    "product_name = str(LIST[1])\n",
    "filename.split(\".\")"
   ]
  },
  {
   "cell_type": "code",
   "execution_count": 39,
   "metadata": {},
   "outputs": [],
   "source": [
    "reviewlist = []\n",
    "domains = [\".com\", \".co.uk\", \".ca\", \".in\", \".co.mx\", \".com.au\", \".co.jp\", \".sg\", \".nl\", \".de\", \".fr\", \".it\", \".es\", \".com.br\"]\n",
    "# domains = [\".co.jp\"]"
   ]
  },
  {
   "cell_type": "code",
   "execution_count": 40,
   "metadata": {},
   "outputs": [],
   "source": [
    "def get_soup(url):\n",
    "    r = requests.get('http://localhost:8050/render.html', params={'url': url, 'wait': 2})\n",
    "    soup = BeautifulSoup(r.text, 'html.parser')\n",
    "    return soup"
   ]
  },
  {
   "cell_type": "code",
   "execution_count": 41,
   "metadata": {},
   "outputs": [],
   "source": [
    "def get_reviews(soup):\n",
    "    reviews = soup.find_all('div', {'data-hook': 'review'})\n",
    "    try:\n",
    "        for item in reviews:\n",
    "            product_title = soup.title.text.strip()\n",
    "            product_title = product_title.split(\"Intel\", 1)[-1].strip()\n",
    "            product_title = \"Intel \" + product_title\n",
    "\n",
    "            review_date = item.find('span', {'data-hook': 'review-date'}).text.strip()\n",
    "            review_date = ' '.join(review_date.split()[-3:])\n",
    "\n",
    "            rating_text = item.find('i', {'data-hook': 'review-star-rating'}).text.strip()\n",
    "            rating_value = re.search(r'(\\d+(\\.\\d+)?)', rating_text).group(1)\n",
    "            rating = float(rating_value)\n",
    "\n",
    "            review = {\n",
    "                'Product': product_title,\n",
    "                'Rating': rating,\n",
    "                'Date': review_date,\n",
    "                'Review': item.find('span', {'data-hook': 'review-body'}).text.strip(),\n",
    "            }\n",
    "            reviewlist.append(review)\n",
    "    except Exception as e:\n",
    "        print(f\"An error occurred: {e}\")"
   ]
  },
  {
   "cell_type": "code",
   "execution_count": 42,
   "metadata": {},
   "outputs": [
    {
     "name": "stdout",
     "output_type": "stream",
     "text": [
      "Getting page: 1 from .com\n",
      "10\n",
      "https://www.amazon.com/Intel-i9-10900K-Desktop-Processor-Unlocked/product-reviews/B086MHSTVD/ref=cm_cr_dp_d_show_all_btm?ie=UTF8&reviewerType=all_reviews&pageNumber=1\n",
      "Getting page: 2 from .com\n",
      "20\n",
      "https://www.amazon.com/Intel-i9-10900K-Desktop-Processor-Unlocked/product-reviews/B086MHSTVD/ref=cm_cr_dp_d_show_all_btm?ie=UTF8&reviewerType=all_reviews&pageNumber=2\n",
      "Getting page: 3 from .com\n",
      "30\n",
      "https://www.amazon.com/Intel-i9-10900K-Desktop-Processor-Unlocked/product-reviews/B086MHSTVD/ref=cm_cr_dp_d_show_all_btm?ie=UTF8&reviewerType=all_reviews&pageNumber=3\n",
      "Getting page: 4 from .com\n",
      "40\n",
      "https://www.amazon.com/Intel-i9-10900K-Desktop-Processor-Unlocked/product-reviews/B086MHSTVD/ref=cm_cr_dp_d_show_all_btm?ie=UTF8&reviewerType=all_reviews&pageNumber=4\n",
      "Getting page: 5 from .com\n",
      "50\n",
      "https://www.amazon.com/Intel-i9-10900K-Desktop-Processor-Unlocked/product-reviews/B086MHSTVD/ref=cm_cr_dp_d_show_all_btm?ie=UTF8&reviewerType=all_reviews&pageNumber=5\n",
      "Getting page: 6 from .com\n",
      "60\n",
      "https://www.amazon.com/Intel-i9-10900K-Desktop-Processor-Unlocked/product-reviews/B086MHSTVD/ref=cm_cr_dp_d_show_all_btm?ie=UTF8&reviewerType=all_reviews&pageNumber=6\n",
      "Getting page: 7 from .com\n",
      "70\n",
      "https://www.amazon.com/Intel-i9-10900K-Desktop-Processor-Unlocked/product-reviews/B086MHSTVD/ref=cm_cr_dp_d_show_all_btm?ie=UTF8&reviewerType=all_reviews&pageNumber=7\n",
      "Getting page: 8 from .com\n",
      "80\n",
      "https://www.amazon.com/Intel-i9-10900K-Desktop-Processor-Unlocked/product-reviews/B086MHSTVD/ref=cm_cr_dp_d_show_all_btm?ie=UTF8&reviewerType=all_reviews&pageNumber=8\n",
      "Getting page: 9 from .com\n",
      "90\n",
      "https://www.amazon.com/Intel-i9-10900K-Desktop-Processor-Unlocked/product-reviews/B086MHSTVD/ref=cm_cr_dp_d_show_all_btm?ie=UTF8&reviewerType=all_reviews&pageNumber=9\n",
      "Getting page: 10 from .com\n",
      "An error occurred: 'NoneType' object has no attribute 'text'\n",
      "92\n",
      "https://www.amazon.com/Intel-i9-10900K-Desktop-Processor-Unlocked/product-reviews/B086MHSTVD/ref=cm_cr_dp_d_show_all_btm?ie=UTF8&reviewerType=all_reviews&pageNumber=10\n",
      "Getting page: 1 from .co.uk\n",
      "An error occurred: 'NoneType' object has no attribute 'text'\n",
      "98\n",
      "https://www.amazon.co.uk/Intel-i9-10900K-Desktop-Processor-Unlocked/product-reviews/B086MHSTVD/ref=cm_cr_dp_d_show_all_btm?ie=UTF8&reviewerType=all_reviews&pageNumber=1\n",
      "Getting page: 2 from .co.uk\n",
      "An error occurred: 'NoneType' object has no attribute 'text'\n",
      "98\n",
      "https://www.amazon.co.uk/Intel-i9-10900K-Desktop-Processor-Unlocked/product-reviews/B086MHSTVD/ref=cm_cr_dp_d_show_all_btm?ie=UTF8&reviewerType=all_reviews&pageNumber=2\n",
      "Getting page: 1 from .ca\n",
      "108\n",
      "https://www.amazon.ca/Intel-i9-10900K-Desktop-Processor-Unlocked/product-reviews/B086MHSTVD/ref=cm_cr_dp_d_show_all_btm?ie=UTF8&reviewerType=all_reviews&pageNumber=1\n",
      "Getting page: 2 from .ca\n",
      "118\n",
      "https://www.amazon.ca/Intel-i9-10900K-Desktop-Processor-Unlocked/product-reviews/B086MHSTVD/ref=cm_cr_dp_d_show_all_btm?ie=UTF8&reviewerType=all_reviews&pageNumber=2\n",
      "Getting page: 3 from .ca\n",
      "An error occurred: 'NoneType' object has no attribute 'text'\n",
      "120\n",
      "https://www.amazon.ca/Intel-i9-10900K-Desktop-Processor-Unlocked/product-reviews/B086MHSTVD/ref=cm_cr_dp_d_show_all_btm?ie=UTF8&reviewerType=all_reviews&pageNumber=3\n",
      "Getting page: 4 from .ca\n",
      "An error occurred: 'NoneType' object has no attribute 'text'\n",
      "120\n",
      "https://www.amazon.ca/Intel-i9-10900K-Desktop-Processor-Unlocked/product-reviews/B086MHSTVD/ref=cm_cr_dp_d_show_all_btm?ie=UTF8&reviewerType=all_reviews&pageNumber=4\n",
      "Getting page: 1 from .in\n",
      "An error occurred: 'NoneType' object has no attribute 'text'\n",
      "126\n",
      "https://www.amazon.in/Intel-i9-10900K-Desktop-Processor-Unlocked/product-reviews/B086MHSTVD/ref=cm_cr_dp_d_show_all_btm?ie=UTF8&reviewerType=all_reviews&pageNumber=1\n",
      "Getting page: 2 from .in\n",
      "An error occurred: 'NoneType' object has no attribute 'text'\n",
      "126\n",
      "https://www.amazon.in/Intel-i9-10900K-Desktop-Processor-Unlocked/product-reviews/B086MHSTVD/ref=cm_cr_dp_d_show_all_btm?ie=UTF8&reviewerType=all_reviews&pageNumber=2\n",
      "Getting page: 1 from .co.mx\n",
      "126\n",
      "https://www.amazon.co.mx/Intel-i9-10900K-Desktop-Processor-Unlocked/product-reviews/B086MHSTVD/ref=cm_cr_dp_d_show_all_btm?ie=UTF8&reviewerType=all_reviews&pageNumber=1\n",
      "Getting page: 1 from .com.au\n",
      "An error occurred: 'NoneType' object has no attribute 'text'\n",
      "128\n",
      "https://www.amazon.com.au/Intel-i9-10900K-Desktop-Processor-Unlocked/product-reviews/B086MHSTVD/ref=cm_cr_dp_d_show_all_btm?ie=UTF8&reviewerType=all_reviews&pageNumber=1\n",
      "Getting page: 2 from .com.au\n",
      "An error occurred: 'NoneType' object has no attribute 'text'\n",
      "128\n",
      "https://www.amazon.com.au/Intel-i9-10900K-Desktop-Processor-Unlocked/product-reviews/B086MHSTVD/ref=cm_cr_dp_d_show_all_btm?ie=UTF8&reviewerType=all_reviews&pageNumber=2\n",
      "Getting page: 1 from .co.jp\n",
      "138\n",
      "https://www.amazon.co.jp/Intel-i9-10900K-Desktop-Processor-Unlocked/product-reviews/B086MHSTVD/ref=cm_cr_dp_d_show_all_btm?ie=UTF8&reviewerType=all_reviews&pageNumber=1\n",
      "Getting page: 2 from .co.jp\n",
      "An error occurred: 'NoneType' object has no attribute 'text'\n",
      "139\n",
      "https://www.amazon.co.jp/Intel-i9-10900K-Desktop-Processor-Unlocked/product-reviews/B086MHSTVD/ref=cm_cr_dp_d_show_all_btm?ie=UTF8&reviewerType=all_reviews&pageNumber=2\n",
      "Getting page: 3 from .co.jp\n",
      "An error occurred: 'NoneType' object has no attribute 'text'\n",
      "139\n",
      "https://www.amazon.co.jp/Intel-i9-10900K-Desktop-Processor-Unlocked/product-reviews/B086MHSTVD/ref=cm_cr_dp_d_show_all_btm?ie=UTF8&reviewerType=all_reviews&pageNumber=3\n",
      "Getting page: 1 from .sg\n",
      "An error occurred: 'NoneType' object has no attribute 'text'\n",
      "139\n",
      "https://www.amazon.sg/Intel-i9-10900K-Desktop-Processor-Unlocked/product-reviews/B086MHSTVD/ref=cm_cr_dp_d_show_all_btm?ie=UTF8&reviewerType=all_reviews&pageNumber=1\n",
      "Getting page: 1 from .nl\n",
      "An error occurred: 'NoneType' object has no attribute 'text'\n",
      "139\n",
      "https://www.amazon.nl/Intel-i9-10900K-Desktop-Processor-Unlocked/product-reviews/B086MHSTVD/ref=cm_cr_dp_d_show_all_btm?ie=UTF8&reviewerType=all_reviews&pageNumber=1\n",
      "Getting page: 1 from .de\n",
      "An error occurred: 'NoneType' object has no attribute 'text'\n",
      "144\n",
      "https://www.amazon.de/Intel-i9-10900K-Desktop-Processor-Unlocked/product-reviews/B086MHSTVD/ref=cm_cr_dp_d_show_all_btm?ie=UTF8&reviewerType=all_reviews&pageNumber=1\n",
      "Getting page: 2 from .de\n",
      "An error occurred: 'NoneType' object has no attribute 'text'\n",
      "144\n",
      "https://www.amazon.de/Intel-i9-10900K-Desktop-Processor-Unlocked/product-reviews/B086MHSTVD/ref=cm_cr_dp_d_show_all_btm?ie=UTF8&reviewerType=all_reviews&pageNumber=2\n",
      "Getting page: 1 from .fr\n",
      "An error occurred: 'NoneType' object has no attribute 'text'\n",
      "144\n",
      "https://www.amazon.fr/Intel-i9-10900K-Desktop-Processor-Unlocked/product-reviews/B086MHSTVD/ref=cm_cr_dp_d_show_all_btm?ie=UTF8&reviewerType=all_reviews&pageNumber=1\n",
      "Getting page: 1 from .it\n",
      "An error occurred: 'NoneType' object has no attribute 'text'\n",
      "150\n",
      "https://www.amazon.it/Intel-i9-10900K-Desktop-Processor-Unlocked/product-reviews/B086MHSTVD/ref=cm_cr_dp_d_show_all_btm?ie=UTF8&reviewerType=all_reviews&pageNumber=1\n",
      "Getting page: 2 from .it\n",
      "An error occurred: 'NoneType' object has no attribute 'text'\n",
      "150\n",
      "https://www.amazon.it/Intel-i9-10900K-Desktop-Processor-Unlocked/product-reviews/B086MHSTVD/ref=cm_cr_dp_d_show_all_btm?ie=UTF8&reviewerType=all_reviews&pageNumber=2\n",
      "Getting page: 1 from .es\n",
      "An error occurred: 'NoneType' object has no attribute 'text'\n",
      "150\n",
      "https://www.amazon.es/Intel-i9-10900K-Desktop-Processor-Unlocked/product-reviews/B086MHSTVD/ref=cm_cr_dp_d_show_all_btm?ie=UTF8&reviewerType=all_reviews&pageNumber=1\n",
      "Getting page: 1 from .com.br\n",
      "150\n",
      "https://www.amazon.com.br/Intel-i9-10900K-Desktop-Processor-Unlocked/product-reviews/B086MHSTVD/ref=cm_cr_dp_d_show_all_btm?ie=UTF8&reviewerType=all_reviews&pageNumber=1\n"
     ]
    }
   ],
   "source": [
    "for y in domains:\n",
    "    for x in range(1,11):\n",
    "        url = re.sub(r'www\\.amazon\\.[a-z\\.]+', f'www.amazon{y}', base_url)\n",
    "        url = f'{url}&pageNumber={x}'\n",
    "        soup = get_soup(url)\n",
    "        print(f'Getting page: {x} from {y}')\n",
    "        initial_length = len(reviewlist)\n",
    "        get_reviews(soup)\n",
    "        print(len(reviewlist))\n",
    "        print(url)\n",
    "        if len(reviewlist) == initial_length:\n",
    "            break\n",
    "        if not soup.find('li', {'class': 'a-disabled a-last'}):\n",
    "            pass\n",
    "        else:\n",
    "            break"
   ]
  },
  {
   "cell_type": "code",
   "execution_count": 43,
   "metadata": {},
   "outputs": [
    {
     "name": "stdout",
     "output_type": "stream",
     "text": [
      "Skipping Japanese review: 現在Ryzenが品薄＋値上がり傾向にあるので、こちらを購入してみました。ネットで性能が悪いと酷評を付けられているので不安でしたが、どんなゲームをしていてもCPU使用率が30%を超えることはまずありません。FPSも60どころか100を割ることは、今のところありません。QHD環境でRTX3080と合わせて使用しています。どのCPUも正直過剰スペックであり、別にRyzenにこだわる必要はなくどちらでも良いんじゃないかと思いました。\n",
      "Skipping Japanese review: よかたよねぇ\n",
      "Skipping Japanese review: 無事に到着しました\n",
      "Skipping Japanese review: i7-8700から乗り換えました。ベンチマークを測ってみると2倍くらいの性能が出ていました。私はほとんどゲームしかしないのですが、いくつかゲームを起動しても前者では時々CPU使用率が100％になり重くなることがあったのですが後者に変えてからは、そのようなことも無くて満足です。ですが、まだ買ってから１ヶ月ほどしか経っていないため評価は星4にします。\n",
      "Skipping Japanese review: そんなにCPUパワーいらない素人ですが、自作歴２３年のおっさんが時々手を出したくなる、ハイエンドCPU、、、趣味の世界で楽しめます！\n",
      "Skipping Japanese review: 8086Kからの乗換えなので、発熱は気にならない。10コアでの動画の書き出しは、安定して早くなった\n",
      "Skipping Japanese review: 9900Kは爆熱で使いにくかった様ですが、ITXの簡易水冷で特別な設定なくMAX5.4GHz、平均5.0GHzで常用できます。ゴギガーが手軽に運用できるCPU凄過ぎ！アサシンクリードヴァルハラを1時間ほどプレイして、室温25度環境でコア温度は平均60度です。\n",
      "Skipping Japanese review: 発熱はすごいが、ゲームにはもってこい\n",
      "Skipping Japanese review: 最強のCPUを所有しているという優越感に浸るためのCPUです。っていうのは嘘で、当方今までi7-8700Kを使っていたのですが最近M/Bの調子も悪かったのでこれを機に新しいものに変えようと思って購入に踏み切りました。いろいろなサイトなどを見ても散々な言われようですが、8700Kと比べるとベンチ上も体感上も明らかに変わりました。値段が高いなども言われていますが、9900Kだってもともと6万強だったので想定の範囲内でした。いまだに14nmプロセスなのは少し残念ではありますが....\n",
      "Skipping Japanese review: 前回のサッカーボールの時よりも中身は取り出しやすくなりました。それだけです。察してください。\n"
     ]
    }
   ],
   "source": [
    "DetectorFactory.seed = 0\n",
    "\n",
    "custom_words = [\n",
    "    \"against\", \"above\", \"below\", \"out\", \"under\", \"again\",\n",
    "    \"no\", \"nor\", \"not\", \"don't\", \"should\", \"didn't\",\n",
    "    \"does\", \"doesn't\", \"hadn't\", \"hasn't\", \"haven't\",\n",
    "    \"isn't\", \"mustn\", \"mustn't\", \"should\", \"shouldn't\",\n",
    "    \"was\", \"wasn't\", \"weren\", \"weren't\", \"won't\", \"wouldn't\",\n",
    "    \"very\", \"couldn't\"\n",
    "]\n",
    "\n",
    "stop_words = set(stopwords.words('english'))\n",
    "for word in custom_words:\n",
    "    if word in stop_words:\n",
    "        stop_words.remove(word)\n",
    "\n",
    "lemmatizer = WordNetLemmatizer()\n",
    "\n",
    "for i in range(len(reviewlist)):\n",
    "    review_dict = reviewlist[i]\n",
    "    review = review_dict['Review']\n",
    "    \n",
    "    # Detect the language of the review\n",
    "    try:\n",
    "        language = detect(review)\n",
    "        if language == 'ja':  # Skip Japanese reviews\n",
    "            print(f\"Skipping Japanese review: {review}\")\n",
    "            continue\n",
    "    except Exception as e:\n",
    "        print(f\"Error detecting language: {e}\")\n",
    "        continue\n",
    "    \n",
    "    # Remove non-alphabetic characters\n",
    "    review = re.sub(r'[^A-Za-z\\s]', '', review)\n",
    "    \n",
    "    # Convert to lowercase\n",
    "    review = review.lower()\n",
    "    \n",
    "    # Tokenize and remove stopwords\n",
    "    words = word_tokenize(review)\n",
    "    filtered_words = [word for word in words if word not in stop_words]\n",
    "    \n",
    "    # Lemmatize\n",
    "    lemmatized_review = ' '.join([lemmatizer.lemmatize(word) for word in filtered_words])\n",
    "    \n",
    "    review_dict['Review'] = lemmatized_review\n"
   ]
  },
  {
   "cell_type": "code",
   "execution_count": 44,
   "metadata": {},
   "outputs": [
    {
     "name": "stdout",
     "output_type": "stream",
     "text": [
      "Fin.\n"
     ]
    }
   ],
   "source": [
    "df = pd.DataFrame(reviewlist)\n",
    "df.to_csv(f'../data/amazon/{product_name}.csv', index=False)\n",
    "print('Fin.')"
   ]
  }
 ],
 "metadata": {
  "kernelspec": {
   "display_name": "Python 3 (ipykernel)",
   "language": "python",
   "name": "python3"
  },
  "language_info": {
   "codemirror_mode": {
    "name": "ipython",
    "version": 3
   },
   "file_extension": ".py",
   "mimetype": "text/x-python",
   "name": "python",
   "nbconvert_exporter": "python",
   "pygments_lexer": "ipython3",
   "version": "3.12.3"
  }
 },
 "nbformat": 4,
 "nbformat_minor": 4
}
