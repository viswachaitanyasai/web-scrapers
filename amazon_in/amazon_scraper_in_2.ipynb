{
 "cells": [
  {
   "cell_type": "code",
   "execution_count": 26,
   "metadata": {},
   "outputs": [
    {
     "name": "stderr",
     "output_type": "stream",
     "text": [
      "[nltk_data] Downloading package stopwords to\n",
      "[nltk_data]     C:\\Users\\KIIT\\AppData\\Roaming\\nltk_data...\n",
      "[nltk_data]   Package stopwords is already up-to-date!\n",
      "[nltk_data] Downloading package punkt to\n",
      "[nltk_data]     C:\\Users\\KIIT\\AppData\\Roaming\\nltk_data...\n",
      "[nltk_data]   Package punkt is already up-to-date!\n",
      "[nltk_data] Downloading package wordnet to\n",
      "[nltk_data]     C:\\Users\\KIIT\\AppData\\Roaming\\nltk_data...\n",
      "[nltk_data]   Package wordnet is already up-to-date!\n"
     ]
    },
    {
     "data": {
      "text/plain": [
       "True"
      ]
     },
     "execution_count": 26,
     "metadata": {},
     "output_type": "execute_result"
    }
   ],
   "source": [
    "import requests\n",
    "from bs4 import BeautifulSoup\n",
    "import pandas as pd\n",
    "import re\n",
    "import nltk\n",
    "nltk.download('stopwords')\n",
    "from nltk.corpus import stopwords\n",
    "from nltk.stem import WordNetLemmatizer\n",
    "from nltk.tokenize import word_tokenize\n",
    "nltk.download('punkt')\n",
    "nltk.download('wordnet')"
   ]
  },
  {
   "cell_type": "code",
   "execution_count": 27,
   "metadata": {},
   "outputs": [
    {
     "data": {
      "text/plain": [
       "['amazon_in_urls', 'txt']"
      ]
     },
     "execution_count": 27,
     "metadata": {},
     "output_type": "execute_result"
    }
   ],
   "source": [
    "filename = 'amazon_in_urls.txt'\n",
    "file = open('amazon_in_urls.txt')\n",
    "LIST=re.split(\"\\r\\n|\\n\",file.read())\n",
    "file.close()\n",
    "# for i in LIST:\n",
    "#     print(i.split('~')[-1])\n",
    "#     url.append(i.split('~')[-1])\n",
    "base_url = LIST[0].split('~')[-1]\n",
    "product_name = str(LIST[1])\n",
    "filename.split(\".\")"
   ]
  },
  {
   "cell_type": "code",
   "execution_count": 28,
   "metadata": {},
   "outputs": [],
   "source": [
    "reviewlist = []\n",
    "domains = [\".com\", \".co.uk\", \".ca\", \".in\", \".co.mx\", \".com.au\", \".co.jp\", \".sg\", \".nl\", \".de\", \".fr\", \".it\", \".es\", \".com.br\"]\n",
    "# domains = [\".in\"]"
   ]
  },
  {
   "cell_type": "code",
   "execution_count": 29,
   "metadata": {},
   "outputs": [],
   "source": [
    "def get_soup(url):\n",
    "    r = requests.get('http://localhost:8050/render.html', params={'url': url, 'wait': 2})\n",
    "    soup = BeautifulSoup(r.text, 'html.parser')\n",
    "    return soup"
   ]
  },
  {
   "cell_type": "code",
   "execution_count": 30,
   "metadata": {},
   "outputs": [],
   "source": [
    "def get_reviews(soup):\n",
    "    reviews = soup.find_all('div', {'data-hook': 'review'})\n",
    "    try:\n",
    "        for item in reviews:\n",
    "            product_title = soup.title.text.strip()\n",
    "            product_title = product_title.split(\"Intel\", 1)[-1].strip()\n",
    "            product_title = \"Intel \" + product_title\n",
    "\n",
    "            review_date = item.find('span', {'data-hook': 'review-date'}).text.strip()\n",
    "            review_date = ' '.join(review_date.split()[-3:])\n",
    "\n",
    "            rating_text = item.find('i', {'data-hook': 'review-star-rating'}).text.strip()\n",
    "            rating_value = re.search(r'(\\d+(\\.\\d+)?)', rating_text).group(1)\n",
    "            rating = float(rating_value)\n",
    "\n",
    "            review = {\n",
    "                'Product': product_title,\n",
    "                'Rating': rating,\n",
    "                'Date': review_date,\n",
    "                'Review': item.find('span', {'data-hook': 'review-body'}).text.strip(),\n",
    "            }\n",
    "            reviewlist.append(review)\n",
    "    except Exception as e:\n",
    "        print(f\"An error occurred: {e}\")"
   ]
  },
  {
   "cell_type": "code",
   "execution_count": 31,
   "metadata": {},
   "outputs": [
    {
     "name": "stdout",
     "output_type": "stream",
     "text": [
      "Getting page: 1 .in\n",
      "10\n",
      "https://www.amazon.in/Intel%C2%AE-CoreTM-i5-10400-Processor-Cache/product-reviews/B086MN38Q2/ref=cm_cr_dp_d_show_all_btm?ie=UTF8&reviewerType=all_reviews&pageNumber=1\n"
     ]
    }
   ],
   "source": [
    "for y in domains:\n",
    "    for x in range(1,11):\n",
    "        url = re.sub(r'www\\.amazon\\.[a-z\\.]+', f'www.amazon{y}', base_url)\n",
    "        url = f'{url}&pageNumber={x}'\n",
    "        soup = get_soup(url)\n",
    "        print(f'Getting page: {x} from {y}')\n",
    "        initial_length = len(reviewlist)\n",
    "        get_reviews(soup)\n",
    "        print(len(reviewlist))\n",
    "        print(url)\n",
    "        if len(reviewlist) == initial_length:\n",
    "            break\n",
    "        if not soup.find('li', {'class': 'a-disabled a-last'}):\n",
    "            pass\n",
    "        else:\n",
    "            break"
   ]
  },
  {
   "cell_type": "code",
   "execution_count": 40,
   "metadata": {},
   "outputs": [
    {
     "name": "stdout",
     "output_type": "stream",
     "text": [
      "{'with', 'or', 'both', \"should've\", 'in', 'has', 'being', 'as', 'its', 'yourselves', 'do', 'have', 'on', 'if', 'hasn', 'when', 't', 'and', 'shouldn', 'herself', 'by', 'are', 'd', 'they', 'off', 'some', 'through', \"needn't\", 'so', 'were', 'haven', 'once', 'him', 'but', 'm', 'at', 'wouldn', 'itself', 'further', 'to', \"that'll\", 'any', 'yours', 'here', 'why', \"it's\", 'mightn', 'own', 'just', \"she's\", 'then', 'now', 'doesn', 'where', 'too', \"shan't\", \"you're\", \"aren't\", 'a', 'ourselves', 'be', 'didn', 'don', 'had', 'myself', 'my', 'her', 'which', 'of', 'over', 'into', 'such', 'themselves', 'what', 'having', 'between', 'than', 'after', 'doing', 'those', 'that', 'isn', 'them', 'his', 'only', 'during', 'it', 'because', 'needn', 'other', 'ma', 'our', 'down', 'how', 'ours', 'there', 'won', 'about', 'am', 'few', 'their', 's', 'll', 'we', 'these', 've', 'will', 'he', 'the', 're', 'been', 'did', 'himself', 'i', 'before', 'more', 'all', 'hers', 'up', 'wasn', 'ain', \"you'd\", 'whom', 'this', 'shan', 'an', \"you've\", 'she', 'theirs', 'who', 'your', 'until', 'hadn', 'most', 'o', 'couldn', 'each', 'y', \"you'll\", 'me', 'while', 'you', 'same', 'can', \"mightn't\", 'for', 'from', 'aren', 'yourself', 'is'}\n"
     ]
    }
   ],
   "source": [
    "custom_words = [\n",
    "    \"against\", \"above\", \"below\", \"out\", \"under\", \"again\",\n",
    "    \"no\", \"nor\", \"not\", \"don't\", \"should\", \"didn't\",\n",
    "    \"does\", \"doesn't\", \"hadn't\", \"hasn't\", \"haven't\",\n",
    "    \"isn't\", \"mustn\", \"mustn't\", \"should\", \"shouldn't\",\n",
    "    \"was\", \"wasn't\", \"weren\", \"weren't\", \"won't\", \"wouldn't\",\n",
    "    \"very\", \"couldn't\"\n",
    "]\n",
    "\n",
    "stop_words = set(stopwords.words('english'))\n",
    "for word in custom_words:\n",
    "    if word in stop_words:\n",
    "        stop_words.remove(word)\n",
    "lemmatizer = WordNetLemmatizer()\n",
    "\n",
    "for i in range(len(reviewlist)):\n",
    "    review_dict = reviewlist[i]\n",
    "    review = review_dict['Review']\n",
    "    \n",
    "    # Remove non-alphabetic characters\n",
    "    review = re.sub(r'[^A-Za-z\\s]', '', review)\n",
    "    \n",
    "    # Convert to lowercase\n",
    "    review = review.lower()\n",
    "    \n",
    "    # Tokenize and remove stopwords\n",
    "    words = word_tokenize(review)\n",
    "    filtered_words = [word for word in words if word not in stop_words]\n",
    "    \n",
    "    # Lemmatize\n",
    "    lemmatized_review = ' '.join([lemmatizer.lemmatize(word) for word in filtered_words])\n",
    "    \n",
    "    review_dict['Review'] = lemmatized_review"
   ]
  },
  {
   "cell_type": "code",
   "execution_count": 34,
   "metadata": {},
   "outputs": [
    {
     "name": "stdout",
     "output_type": "stream",
     "text": [
      "Fin.\n"
     ]
    }
   ],
   "source": [
    "df = pd.DataFrame(reviewlist)\n",
    "df.to_csv(f'../data/amazon/{product_name}.csv', index=False)\n",
    "print('Fin.')"
   ]
  }
 ],
 "metadata": {
  "kernelspec": {
   "display_name": "Python 3 (ipykernel)",
   "language": "python",
   "name": "python3"
  },
  "language_info": {
   "codemirror_mode": {
    "name": "ipython",
    "version": 3
   },
   "file_extension": ".py",
   "mimetype": "text/x-python",
   "name": "python",
   "nbconvert_exporter": "python",
   "pygments_lexer": "ipython3",
   "version": "3.12.3"
  }
 },
 "nbformat": 4,
 "nbformat_minor": 4
}
