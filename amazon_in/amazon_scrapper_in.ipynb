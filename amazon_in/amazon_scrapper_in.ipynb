{
 "cells": [
  {
   "cell_type": "code",
   "execution_count": 20,
   "id": "e87b003f-07f0-4971-a00e-b92ee91309f8",
   "metadata": {},
   "outputs": [
    {
     "data": {
      "text/plain": [
       "<RequestsCookieJar[]>"
      ]
     },
     "execution_count": 20,
     "metadata": {},
     "output_type": "execute_result"
    }
   ],
   "source": [
    "import pandas as pd\n",
    "import requests\n",
    "import re\n",
    "from bs4 import BeautifulSoup\n",
    "search_query=\"intel-core-i5\"\n",
    "base_url=\"https://www.amazon.com/s?k=\"\n",
    "url=base_url+search_query\n",
    "url\n",
    "header={'User-Agent': 'Mozilla/5.0 (Linux; Android 6.0; Nexus 5 Build/MRA58N) AppleWebKit/537.36 (KHTML, like Gecko) Chrome/125.0.0.0 Mobile Safari/537.36','Accept-Language': 'da, en-gb, en',\n",
    "    'Accept-Encoding': 'gzip, deflate, br',\n",
    "    'Accept': 'text/html,application/xhtml+xml,application/xml;q=0.9,image/avif,image/webp,*/*;q=0.8',\n",
    "    'Referer': 'https://www.google.com/'}\n",
    "search_response=requests.get(url,headers=header)\n",
    "search_response.status_code\n",
    "search_response.text\n",
    "search_response.cookies"
   ]
  },
  {
   "cell_type": "code",
   "execution_count": 21,
   "id": "8ff5dfbe-b5a8-4727-8a2f-7beb427df981",
   "metadata": {},
   "outputs": [],
   "source": [
    "cookie={}\n",
    "def getAmazonSearch(search_query):\n",
    "    url=\"https://www.amazon.com/s?k=\"+search_query\n",
    "    print(url)\n",
    "    page=requests.get(url,headers=header)\n",
    "    if page.status_code==200:\n",
    "        return page\n",
    "    else:\n",
    "        return \"Error\""
   ]
  },
  {
   "cell_type": "code",
   "execution_count": 63,
   "id": "854459bc-8faa-4225-8593-15f8efc10522",
   "metadata": {},
   "outputs": [
    {
     "name": "stdout",
     "output_type": "stream",
     "text": [
      "https://www.amazon.in/Intel%C2%AE-CoreTM-i5-10400-Processor-Cache/product-reviews/B086MN38Q2/ref=cm_cr_dp_d_show_all_btm?ie=UTF8&reviewerType=all_reviews&pageNumber=2\n"
     ]
    },
    {
     "data": {
      "text/plain": [
       "'error'"
      ]
     },
     "execution_count": 63,
     "metadata": {},
     "output_type": "execute_result"
    }
   ],
   "source": [
    "\n",
    "def Searchreviews(review_link):\n",
    "    url=review_link\n",
    "    print(url)\n",
    "    page=requests.get(url,cookies=cookie,headers=header)\n",
    "    if page.status_code==200:\n",
    "        return page\n",
    "    else:\n",
    "        return \"error\"\n",
    "    page.status_code\n",
    "Searchreviews('https://www.amazon.in/Intel%C2%AE-CoreTM-i5-10400-Processor-Cache/product-reviews/B086MN38Q2/ref=cm_cr_dp_d_show_all_btm?ie=UTF8&reviewerType=all_reviews&pageNumber=2')\n",
    "    "
   ]
  },
  {
   "cell_type": "code",
   "execution_count": 23,
   "id": "c7c494c5",
   "metadata": {},
   "outputs": [],
   "source": [
    "filename = 'amazon_in_urls.txt'\n",
    "file = open('amazon_in_urls.txt')"
   ]
  },
  {
   "cell_type": "code",
   "execution_count": 24,
   "id": "3b0b196c",
   "metadata": {},
   "outputs": [],
   "source": [
    "LIST=re.split(\"\\r\\n|\\n\",file.read())\n",
    "file.close()"
   ]
  },
  {
   "cell_type": "code",
   "execution_count": 25,
   "id": "b5cf2ed1",
   "metadata": {},
   "outputs": [
    {
     "name": "stdout",
     "output_type": "stream",
     "text": [
      "https://www.amazon.in/Intel%C2%AE-CoreTM-i5-10400-Processor-Cache/dp/B086MN38Q2/ref=cm_cr_arp_d_product_top?ie=UTF8\n"
     ]
    }
   ],
   "source": [
    "url = []\n",
    "for i in LIST:\n",
    "    print(i.split('~')[-1])\n",
    "    url.append(i.split('~')[-1])"
   ]
  },
  {
   "cell_type": "code",
   "execution_count": 26,
   "id": "27383d45",
   "metadata": {},
   "outputs": [
    {
     "data": {
      "text/plain": [
       "['amazon_in_urls', 'txt']"
      ]
     },
     "execution_count": 26,
     "metadata": {},
     "output_type": "execute_result"
    }
   ],
   "source": [
    "filename.split(\".\")"
   ]
  },
  {
   "cell_type": "code",
   "execution_count": 27,
   "id": "460a7876",
   "metadata": {},
   "outputs": [
    {
     "name": "stdout",
     "output_type": "stream",
     "text": [
      "https://www.amazon.in/Intel%C2%AE-CoreTM-i5-10400-Processor-Cache/dp/B086MN38Q2/ref=cm_cr_arp_d_product_top?ie=UTF8\n",
      "<!DOCTYPE html>\n",
      "<!--[if lt IE 7]> <html lang=\"en-us\" class=\"a-no-js a-lt-ie9 a-lt-ie8 a-lt-ie7\"> <![endif]--><!--[if IE 7]>    <html lang=\"en-us\" class=\"a-no-js a-lt-ie9 a-lt-ie8\"> <![endif]--><!--[if IE 8]>    <html lang=\"en-us\" class=\"a-no-js a-lt-ie9\"> <![endif]--><!--[if gt IE 8]><!--><html class=\"a-no-js\" lang=\"en-us\"><!--<![endif]--><head>\n",
      "<meta content=\"text/html; charset=utf-8\" http-equiv=\"content-type\"/>\n",
      "<meta charset=\"utf-8\"/>\n",
      "<meta content=\"IE=edge,chrome=1\" http-equiv=\"X-UA-Compatible\"/>\n",
      "<title dir=\"ltr\">Amazon.in</title>\n",
      "<meta content=\"width=device-width\" name=\"viewport\"/>\n",
      "<link href=\"https://images-na.ssl-images-amazon.com/images/G/01/AUIClients/AmazonUI-3c913031596ca78a3768f4e934b1cc02ce238101.secure.min._V1_.css\" rel=\"stylesheet\"/>\n",
      "<script>\n",
      "\n",
      "if (true === true) {\n",
      "    var ue_t0 = (+ new Date()),\n",
      "        ue_csm = window,\n",
      "        ue = { t0: ue_t0, d: function() { return (+new Date() - ue_t0); } },\n",
      "        ue_furl = \"fls-eu.amazon.in\",\n",
      "        ue_mid = \"A21TJRUUN4KGV\",\n",
      "        ue_sid = (document.cookie.match(/session-id=([0-9-]+)/) || [])[1],\n",
      "        ue_sn = \"opfcaptcha.amazon.in\",\n",
      "        ue_id = '65BFQ7B0NM184HRJXZCD';\n",
      "}\n",
      "</script>\n",
      "</head>\n",
      "<body>\n",
      "<!--\n",
      "        To discuss automated access to Amazon data please contact api-services-support@amazon.com.\n",
      "        For information about migrating to our APIs refer to our Marketplace APIs at https://developer.amazonservices.in/ref=rm_c_sv, or our Product Advertising API at https://affiliate-program.amazon.in/gp/advertising/api/detail/main.html/ref=rm_c_ac for advertising use cases.\n",
      "-->\n",
      "<!--\n",
      "Correios.DoNotSend\n",
      "-->\n",
      "<div class=\"a-container a-padding-double-large\" style=\"min-width:350px;padding:44px 0 !important\">\n",
      "<div class=\"a-row a-spacing-double-large\" style=\"width: 350px; margin: 0 auto\">\n",
      "<div class=\"a-row a-spacing-medium a-text-center\"><i class=\"a-icon a-logo\"></i></div>\n",
      "<div class=\"a-box a-alert a-alert-info a-spacing-base\">\n",
      "<div class=\"a-box-inner\">\n",
      "<i class=\"a-icon a-icon-alert\"></i>\n",
      "<h4>Enter the characters you see below</h4>\n",
      "<p class=\"a-last\">Sorry, we just need to make sure you're not a robot. For best results, please make sure your browser is accepting cookies.</p>\n",
      "</div>\n",
      "</div>\n",
      "<div class=\"a-section\">\n",
      "<div class=\"a-box a-color-offset-background\">\n",
      "<div class=\"a-box-inner a-padding-extra-large\">\n",
      "<form action=\"/errors/validateCaptcha\" method=\"get\" name=\"\">\n",
      "<input name=\"amzn\" type=\"hidden\" value=\"Gh60CTUSsSbE1iewj2sQFA==\"/><input name=\"amzn-r\" type=\"hidden\" value=\"/Intel%C2%AE-CoreTM-i5-10400-Processor-Cache/dp/B086MN38Q2/ref=cm_cr_arp_d_product_top?ie=UTF8\"/>\n",
      "<div class=\"a-row a-spacing-large\">\n",
      "<div class=\"a-box\">\n",
      "<div class=\"a-box-inner\">\n",
      "<h4>Type the characters you see in this image:</h4>\n",
      "<!-- For automated access to price change or offer listing change events,\n",
      "                                             please refer to the MWS Subscription API:\n",
      "                                             https://developer.amazonservices.in/gp/mws/api.html/276-5247872-0590350?ie=UTF8&section=subscriptions&group=subscriptions&version=latest\n",
      "                                        -->\n",
      "<div class=\"a-row a-text-center\">\n",
      "<img src=\"https://images-na.ssl-images-amazon.com/captcha/rhnrlggh/Captcha_gcnbakvidj.jpg\"/>\n",
      "</div>\n",
      "<div class=\"a-row a-spacing-base\">\n",
      "<div class=\"a-row\">\n",
      "<div class=\"a-column a-span6\">\n",
      "</div>\n",
      "<div class=\"a-column a-span6 a-span-last a-text-right\">\n",
      "<a onclick=\"window.location.reload()\">Try different image</a>\n",
      "</div>\n",
      "</div>\n",
      "<input autocapitalize=\"off\" autocomplete=\"off\" autocorrect=\"off\" class=\"a-span12\" id=\"captchacharacters\" name=\"field-keywords\" placeholder=\"Type characters\" spellcheck=\"false\" type=\"text\"/>\n",
      "</div>\n",
      "</div>\n",
      "</div>\n",
      "</div>\n",
      "<div class=\"a-section a-spacing-extra-large\">\n",
      "<div class=\"a-row\">\n",
      "<span class=\"a-button a-button-primary a-span12\">\n",
      "<span class=\"a-button-inner\">\n",
      "<button class=\"a-button-text\" type=\"submit\">Continue shopping</button>\n",
      "</span>\n",
      "</span>\n",
      "</div>\n",
      "</div>\n",
      "</form>\n",
      "</div>\n",
      "</div>\n",
      "</div>\n",
      "</div>\n",
      "<div class=\"a-divider a-divider-section\"><div class=\"a-divider-inner\"></div></div>\n",
      "<div class=\"a-text-center a-spacing-small a-size-mini\">\n",
      "<a href=\"https://www.amazon.in/gp/help/customer/display.html/ref=footer_cou?ie=UTF8&amp;nodeId=200545940\">Conditions of Use &amp; Sale</a>\n",
      "<span class=\"a-letter-space\"></span>\n",
      "<span class=\"a-letter-space\"></span>\n",
      "<span class=\"a-letter-space\"></span>\n",
      "<span class=\"a-letter-space\"></span>\n",
      "<a href=\"https://www.amazon.in/gp/help/customer/display.html/ref=footer_privacy?ie=UTF8&amp;nodeId=200534380\">Privacy Notice</a>\n",
      "</div>\n",
      "<div class=\"a-text-center a-size-mini a-color-secondary\">\n",
      "          © 1996-2015, Amazon.com, Inc. or its affiliates\n",
      "          <script>\n",
      "           if (true === true) {\n",
      "             document.write('<img src=\"https://fls-eu.amaz'+'on.in/'+'1/oc-csi/1/OP/requestId=65BFQ7B0NM184HRJXZCD&js=1\" />');\n",
      "           };\n",
      "          </script>\n",
      "<noscript>\n",
      "<img src=\"https://fls-eu.amazon.in/1/oc-csi/1/OP/requestId=65BFQ7B0NM184HRJXZCD&amp;js=0\"/>\n",
      "</noscript>\n",
      "</div>\n",
      "</div>\n",
      "<script>\n",
      "    if (true === true) {\n",
      "        var head = document.getElementsByTagName('head')[0],\n",
      "            prefix = \"https://images-eu.ssl-images-amazon.com/images/G/01/csminstrumentation/\",\n",
      "            elem = document.createElement(\"script\");\n",
      "        elem.src = prefix + \"csm-captcha-instrumentation.min.js\";\n",
      "        head.appendChild(elem);\n",
      "\n",
      "        elem = document.createElement(\"script\");\n",
      "        elem.src = prefix + \"rd-script-6d68177fa6061598e9509dc4b5bdd08d.js\";\n",
      "        head.appendChild(elem);\n",
      "    }\n",
      "    </script>\n",
      "</body></html>\n",
      "\n"
     ]
    }
   ],
   "source": [
    "link=[]\n",
    "\n",
    "response = Searchreviews(url[0])\n",
    "soup = BeautifulSoup(response.content, 'lxml')\n",
    "base = 'https://www.amazon.in'\n",
    "for i in soup.findAll(\"a\",{'data-hook':\"see-all-reviews-link-mobile\"}):\n",
    "        href = i['href']\n",
    "        url_link = base + href\n",
    "        link.append(str(url_link))\n",
    "print(soup)"
   ]
  },
  {
   "cell_type": "code",
   "execution_count": 35,
   "id": "9dd9e250-63ec-43c1-bdeb-08be9d6b6f85",
   "metadata": {},
   "outputs": [],
   "source": [
    "link = ['https://www.amazon.in/Intel%C2%AE-CoreTM-i5-10400-Processor-Cache/product-reviews/B086MN38Q2/ref=cm_cr_dp_d_show_all_btm?ie=UTF8&reviewerType=all_reviews']"
   ]
  },
  {
   "cell_type": "code",
   "execution_count": 29,
   "id": "c741bfed-4496-4d99-9efc-faac3620c5a7",
   "metadata": {},
   "outputs": [
    {
     "data": {
      "text/plain": [
       "1"
      ]
     },
     "execution_count": 29,
     "metadata": {},
     "output_type": "execute_result"
    }
   ],
   "source": [
    "len(link)"
   ]
  },
  {
   "cell_type": "code",
   "execution_count": 36,
   "id": "52801a6f-4edf-4d1e-9d33-4696506d586d",
   "metadata": {},
   "outputs": [
    {
     "name": "stdout",
     "output_type": "stream",
     "text": [
      "https://www.amazon.in/Intel%C2%AE-CoreTM-i5-10400-Processor-Cache/product-reviews/B086MN38Q2/ref=cm_cr_dp_d_show_all_btm?ie=UTF8&reviewerType=all_reviews&pageNumber=0\n",
      "404\n"
     ]
    },
    {
     "ename": "AttributeError",
     "evalue": "'str' object has no attribute 'content'",
     "output_type": "error",
     "traceback": [
      "\u001b[1;31m---------------------------------------------------------------------------\u001b[0m",
      "\u001b[1;31mAttributeError\u001b[0m                            Traceback (most recent call last)",
      "Cell \u001b[1;32mIn[36], line 8\u001b[0m\n\u001b[0;32m      6\u001b[0m \u001b[38;5;28;01mfor\u001b[39;00m k \u001b[38;5;129;01min\u001b[39;00m \u001b[38;5;28mrange\u001b[39m(\u001b[38;5;241m3\u001b[39m):\n\u001b[0;32m      7\u001b[0m     response \u001b[38;5;241m=\u001b[39m Searchreviews(link[j] \u001b[38;5;241m+\u001b[39m \u001b[38;5;124m'\u001b[39m\u001b[38;5;124m&pageNumber=\u001b[39m\u001b[38;5;124m'\u001b[39m \u001b[38;5;241m+\u001b[39m \u001b[38;5;28mstr\u001b[39m(k))\n\u001b[1;32m----> 8\u001b[0m     soup \u001b[38;5;241m=\u001b[39m BeautifulSoup(\u001b[43mresponse\u001b[49m\u001b[38;5;241;43m.\u001b[39;49m\u001b[43mcontent\u001b[49m, \u001b[38;5;124m'\u001b[39m\u001b[38;5;124mlxml\u001b[39m\u001b[38;5;124m'\u001b[39m)\n\u001b[0;32m     10\u001b[0m     \u001b[38;5;28;01mfor\u001b[39;00m i \u001b[38;5;129;01min\u001b[39;00m soup\u001b[38;5;241m.\u001b[39mfindAll(\u001b[38;5;124m\"\u001b[39m\u001b[38;5;124mdiv\u001b[39m\u001b[38;5;124m\"\u001b[39m,{\u001b[38;5;124m'\u001b[39m\u001b[38;5;124mclass\u001b[39m\u001b[38;5;124m'\u001b[39m:\u001b[38;5;124m\"\u001b[39m\u001b[38;5;124ma-row a-spacing-small cr-full-content\u001b[39m\u001b[38;5;124m\"\u001b[39m}):\n\u001b[0;32m     11\u001b[0m         \u001b[38;5;28;01mif\u001b[39;00m i:\n",
      "\u001b[1;31mAttributeError\u001b[0m: 'str' object has no attribute 'content'"
     ]
    }
   ],
   "source": [
    "\n",
    "reviews=[]\n",
    "date=[]\n",
    "star=[]\n",
    "\n",
    "for j in range(len(link)):\n",
    "    for k in range(3):\n",
    "        response = Searchreviews(link[j] + '&pageNumber=' + str(k))\n",
    "        soup = BeautifulSoup(response.content, 'lxml')\n",
    "\n",
    "        for i in soup.findAll(\"div\",{'class':\"a-row a-spacing-small cr-full-content\"}):\n",
    "            if i:\n",
    "                span1 = i.find('span',{'data-hook':\"review-body\"})\n",
    "                reviews.append(span1.text)\n",
    "        for i in soup.findAll(\"div\",{'class':\"a-row a-spacing-small cr-full-content aok-hidden\"}):\n",
    "            if i:\n",
    "                span2 = j.find('span',{'data-hook':\"review-body\"})\n",
    "                reviews.append(span2.text)\n",
    "            \n",
    "        for m in soup.findAll(\"span\", {'data-hook':\"review-date\"}):\n",
    "                        print(m.text)\n",
    "                        date.append(m.text)\n",
    "        for n in soup.findAll(\"i\", {'data-hook':\"review-star-rating\"}):\n",
    "                        print(n.text)\n",
    "                        star.append(n.text)\n"
   ]
  },
  {
   "cell_type": "code",
   "execution_count": null,
   "id": "58d6ce82-e2e7-4659-a7bd-3ec9a2f53dd1",
   "metadata": {},
   "outputs": [
    {
     "name": "stdout",
     "output_type": "stream",
     "text": [
      "[]\n"
     ]
    }
   ],
   "source": [
    "#data Cleaning\n",
    "date\n",
    "date = [dates.replace('Reviewed in India on ', '') for dates in date]\n",
    "\n",
    "print(date)\n"
   ]
  },
  {
   "cell_type": "code",
   "execution_count": null,
   "id": "b511664e-00d8-41c6-afd8-ea308e0a968d",
   "metadata": {},
   "outputs": [
    {
     "name": "stdout",
     "output_type": "stream",
     "text": [
      "[]\n"
     ]
    }
   ],
   "source": [
    "star\n",
    "star = [stars.replace(' out of 5 stars', '') for stars in star]\n",
    "print(star)"
   ]
  },
  {
   "cell_type": "code",
   "execution_count": null,
   "id": "9f23f071-7efd-43e5-b1a4-38c1975d1310",
   "metadata": {},
   "outputs": [
    {
     "name": "stdout",
     "output_type": "stream",
     "text": [
      "20 20 20\n"
     ]
    }
   ],
   "source": [
    "print(len(date), len(star), len(reviews))\n"
   ]
  },
  {
   "cell_type": "code",
   "execution_count": null,
   "id": "51b2a387-dd97-4bba-b2ff-33b8ea8dc642",
   "metadata": {},
   "outputs": [
    {
     "name": "stderr",
     "output_type": "stream",
     "text": [
      "[nltk_data] Downloading package stopwords to\n",
      "[nltk_data]     C:\\Users\\KIIT\\AppData\\Roaming\\nltk_data...\n",
      "[nltk_data]   Package stopwords is already up-to-date!\n"
     ]
    }
   ],
   "source": [
    "len(reviews)\n",
    "reviews\n",
    "import re\n",
    "for i in range(len(reviews)):\n",
    "    reviews[i] = re.sub(r'[^A-Za-z\\s]', '', reviews[i])  \n",
    "\n",
    "import nltk\n",
    "nltk.download('stopwords')\n",
    "from nltk.corpus import stopwords\n",
    "# Get the list of English stopwords\n",
    "stop_words = set(stopwords.words('english'))\n",
    "\n",
    "# Iterate over each review in the reviews list\n",
    "for i in range(len(reviews)):\n",
    "    # Use regular expression to find all words in the review\n",
    "    words = re.findall(r'\\b\\w+\\b', reviews[i])\n",
    "    \n",
    "    # Filter out stopwords from the list of words\n",
    "    filtered_words = [word for word in words if word.lower() not in stop_words]\n",
    "    \n",
    "    # Join the filtered words back into a sentence\n",
    "    filtered_review = ' '.join(filtered_words)\n",
    "    \n",
    "    # Update the corresponding review in the reviews list\n",
    "    reviews[i] = filtered_review\n",
    "\n",
    "# Print the updated reviews\n",
    "for review in reviews:\n",
    "    print(review)"
   ]
  },
  {
   "cell_type": "code",
   "execution_count": null,
   "id": "5413616e-d1af-4205-a374-66b5aa347959",
   "metadata": {},
   "outputs": [],
   "source": [
    "# rev={'reviews':reviews}\n",
    "rev = {'date': date, 'star': star, 'reviews': reviews}\n",
    "\n"
   ]
  },
  {
   "cell_type": "code",
   "execution_count": null,
   "id": "e05ae888-6fec-4bd5-91a7-eadb85be3efa",
   "metadata": {},
   "outputs": [],
   "source": [
    "\n",
    "review_data=pd.DataFrame.from_dict(rev)\n",
    "pd.set_option('max_colwidth',800)"
   ]
  },
  {
   "cell_type": "code",
   "execution_count": null,
   "id": "9631831b-90a0-4ff1-b1b6-01ed77c22be2",
   "metadata": {},
   "outputs": [
    {
     "data": {
      "text/html": [
       "<div>\n",
       "<style scoped>\n",
       "    .dataframe tbody tr th:only-of-type {\n",
       "        vertical-align: middle;\n",
       "    }\n",
       "\n",
       "    .dataframe tbody tr th {\n",
       "        vertical-align: top;\n",
       "    }\n",
       "\n",
       "    .dataframe thead th {\n",
       "        text-align: right;\n",
       "    }\n",
       "</style>\n",
       "<table border=\"1\" class=\"dataframe\">\n",
       "  <thead>\n",
       "    <tr style=\"text-align: right;\">\n",
       "      <th></th>\n",
       "      <th>date</th>\n",
       "      <th>star</th>\n",
       "      <th>reviews</th>\n",
       "    </tr>\n",
       "  </thead>\n",
       "  <tbody>\n",
       "  </tbody>\n",
       "</table>\n",
       "</div>"
      ],
      "text/plain": [
       "Empty DataFrame\n",
       "Columns: [date, star, reviews]\n",
       "Index: []"
      ]
     },
     "execution_count": 69,
     "metadata": {},
     "output_type": "execute_result"
    }
   ],
   "source": [
    "review_data.head(20)\n"
   ]
  },
  {
   "cell_type": "code",
   "execution_count": null,
   "id": "4e797001-c024-4d68-86ae-dadbbdff20ec",
   "metadata": {},
   "outputs": [
    {
     "data": {
      "text/plain": [
       "(0, 3)"
      ]
     },
     "execution_count": 70,
     "metadata": {},
     "output_type": "execute_result"
    }
   ],
   "source": [
    " review_data.shape"
   ]
  },
  {
   "cell_type": "code",
   "execution_count": null,
   "id": "b0997c79-75e9-4c5a-ae28-1b048028550b",
   "metadata": {},
   "outputs": [],
   "source": [
    "review_data.to_csv('../data/amazon_in.csv')"
   ]
  },
  {
   "cell_type": "code",
   "execution_count": null,
   "id": "a596d973-1489-429b-b4e5-a82d187e8ee4",
   "metadata": {},
   "outputs": [],
   "source": []
  }
 ],
 "metadata": {
  "kernelspec": {
   "display_name": "Python 3 (ipykernel)",
   "language": "python",
   "name": "python3"
  },
  "language_info": {
   "codemirror_mode": {
    "name": "ipython",
    "version": 3
   },
   "file_extension": ".py",
   "mimetype": "text/x-python",
   "name": "python",
   "nbconvert_exporter": "python",
   "pygments_lexer": "ipython3",
   "version": "3.12.3"
  }
 },
 "nbformat": 4,
 "nbformat_minor": 5
}
