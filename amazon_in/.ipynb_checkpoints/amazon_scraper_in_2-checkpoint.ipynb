{
 "cells": [
  {
   "cell_type": "code",
   "execution_count": 3,
   "metadata": {},
   "outputs": [
    {
     "name": "stdout",
     "output_type": "stream",
     "text": [
      "Getting page: 1\n",
      "10\n",
      "Getting page: 2\n",
      "20\n",
      "Getting page: 3\n",
      "30\n",
      "Getting page: 4\n",
      "40\n",
      "Getting page: 5\n",
      "48\n",
      "Getting page: 6\n",
      "48\n",
      "Getting page: 7\n",
      "48\n",
      "Getting page: 8\n",
      "48\n",
      "Getting page: 9\n",
      "48\n",
      "Getting page: 10\n",
      "48\n"
     ]
    }
   ],
   "source": [
    "import requests\n",
    "from bs4 import BeautifulSoup\n",
    "import pandas as pd\n",
    "\n",
    "reviewlist = []\n",
    "\n",
    "def get_soup(url):\n",
    "    r = requests.get('http://localhost:8050/render.html', params={'url': url, 'wait': 2})\n",
    "    soup = BeautifulSoup(r.text, 'html.parser')\n",
    "    return soup\n",
    "\n",
    "\n",
    "def get_reviews(soup):\n",
    "    reviews = soup.find_all('div', {'data-hook': 'review'})\n",
    "    try:\n",
    "        for item in reviews:\n",
    "            review = {\n",
    "            'product': soup.title.text.replace('Amazon.in:Customer reviews:', '').strip(),\n",
    "            'title': item.find('a', {'data-hook': 'review-title'}).text.strip(),\n",
    "            'rating':  float(item.find('i', {'data-hook': 'review-star-rating'}).text.replace('out of 5 stars', '').strip()),\n",
    "            'body': item.find('span', {'data-hook': 'review-body'}).text.strip(),\n",
    "            }\n",
    "            reviewlist.append(review)\n",
    "    except:\n",
    "        pass\n",
    "\n",
    "for x in range(1,999):\n",
    "    soup = get_soup(f'https://www.amazon.in/Intel%C2%AE-CoreTM-i5-10400-Processor-Cache/product-reviews/B086MN38Q2/ref=cm_cr_dp_d_show_all_btm?ie=UTF8&reviewerType=all_reviews&pageNumber={x}')\n",
    "    print(f'Getting page: {x}')\n",
    "    get_reviews(soup)\n",
    "    print(len(reviewlist))\n",
    "    if not soup.find('li', {'class': 'a-disabled a-last'}):\n",
    "        pass\n",
    "    else:\n",
    "        break\n"
   ]
  },
  {
   "cell_type": "code",
   "execution_count": 4,
   "metadata": {},
   "outputs": [
    {
     "name": "stdout",
     "output_type": "stream",
     "text": [
      "Fin.\n"
     ]
    }
   ],
   "source": [
    "\n",
    "df = pd.DataFrame(reviewlist)\n",
    "df.to_excel('sony-headphones.xlsx', index=False)\n",
    "print('Fin.')"
   ]
  }
 ],
 "metadata": {
  "kernelspec": {
   "display_name": "Python 3",
   "language": "python",
   "name": "python3"
  },
  "language_info": {
   "codemirror_mode": {
    "name": "ipython",
    "version": 3
   },
   "file_extension": ".py",
   "mimetype": "text/x-python",
   "name": "python",
   "nbconvert_exporter": "python",
   "pygments_lexer": "ipython3",
   "version": "3.12.3"
  }
 },
 "nbformat": 4,
 "nbformat_minor": 2
}
