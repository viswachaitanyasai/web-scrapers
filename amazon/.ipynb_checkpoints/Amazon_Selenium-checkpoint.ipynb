{
 "cells": [
  {
   "cell_type": "code",
   "execution_count": 10,
   "id": "24fd5aea",
   "metadata": {},
   "outputs": [
    {
     "name": "stderr",
     "output_type": "stream",
     "text": [
      "[nltk_data] Downloading package punkt to\n",
      "[nltk_data]     C:\\Users\\KIIT\\AppData\\Roaming\\nltk_data...\n",
      "[nltk_data]   Package punkt is already up-to-date!\n",
      "[nltk_data] Downloading package wordnet to\n",
      "[nltk_data]     C:\\Users\\KIIT\\AppData\\Roaming\\nltk_data...\n",
      "[nltk_data]   Package wordnet is already up-to-date!\n"
     ]
    },
    {
     "data": {
      "text/plain": [
       "True"
      ]
     },
     "execution_count": 10,
     "metadata": {},
     "output_type": "execute_result"
    }
   ],
   "source": [
    "from selenium.webdriver.common.by import By\n",
    "from selenium.webdriver.support.ui import WebDriverWait\n",
    "from selenium.webdriver.support import expected_conditions as EC\n",
    "from selenium.common.exceptions import NoSuchElementException\n",
    "import time\n",
    "from selenium.webdriver import Firefox, Chrome\n",
    "import pandas as pd\n",
    "import re\n",
    "from bs4 import BeautifulSoup as bs\n",
    "import tqdm\n",
    "import nltk\n",
    "from nltk.corpus import stopwords\n",
    "from nltk.stem import WordNetLemmatizer\n",
    "from nltk.tokenize import word_tokenize\n",
    "nltk.download('punkt')\n",
    "nltk.download('wordnet')"
   ]
  },
  {
   "cell_type": "code",
   "execution_count": 11,
   "id": "9e747a80",
   "metadata": {},
   "outputs": [],
   "source": [
    "filename = 'amazon_urls.txt'\n",
    "file = open('amazon_urls.txt')"
   ]
  },
  {
   "cell_type": "code",
   "execution_count": 12,
   "id": "958907e5",
   "metadata": {},
   "outputs": [],
   "source": [
    "LIST=re.split(\"\\r\\n|\\n\",file.read())\n",
    "file.close()"
   ]
  },
  {
   "cell_type": "code",
   "execution_count": 13,
   "id": "ce15232a",
   "metadata": {},
   "outputs": [
    {
     "name": "stdout",
     "output_type": "stream",
     "text": [
      "https://www.amazon.in/Intel-i5-12600K-Desktop-Processor-Unlocked/dp/B09FX4D72T\n"
     ]
    }
   ],
   "source": [
    "x = []\n",
    "for i in LIST:\n",
    "    print(i.split('~')[-1])\n",
    "    x.append(i.split('~')[-1])"
   ]
  },
  {
   "cell_type": "code",
   "execution_count": 14,
   "id": "7da52ecd-b79e-4a52-8676-0460677c522f",
   "metadata": {},
   "outputs": [
    {
     "data": {
      "text/plain": [
       "['https://www.amazon.in/Intel-i5-12600K-Desktop-Processor-Unlocked/dp/B09FX4D72T']"
      ]
     },
     "execution_count": 14,
     "metadata": {},
     "output_type": "execute_result"
    }
   ],
   "source": [
    "x"
   ]
  },
  {
   "cell_type": "code",
   "execution_count": 15,
   "id": "5b78ee56",
   "metadata": {},
   "outputs": [
    {
     "data": {
      "text/plain": [
       "['amazon_urls', 'txt']"
      ]
     },
     "execution_count": 15,
     "metadata": {},
     "output_type": "execute_result"
    }
   ],
   "source": [
    "filename.split(\".\")"
   ]
  },
  {
   "cell_type": "code",
   "execution_count": 16,
   "id": "d7ffa2aa",
   "metadata": {},
   "outputs": [
    {
     "data": {
      "text/plain": [
       "1"
      ]
     },
     "execution_count": 16,
     "metadata": {},
     "output_type": "execute_result"
    }
   ],
   "source": [
    "len(x)"
   ]
  },
  {
   "cell_type": "code",
   "execution_count": 17,
   "id": "8e438fc9-7664-44de-ab2f-27872f52abe1",
   "metadata": {},
   "outputs": [
    {
     "data": {
      "text/plain": [
       "['https://www.amazon.in/Intel-i5-12600K-Desktop-Processor-Unlocked/dp/B09FX4D72T']"
      ]
     },
     "execution_count": 17,
     "metadata": {},
     "output_type": "execute_result"
    }
   ],
   "source": [
    "x"
   ]
  },
  {
   "cell_type": "code",
   "execution_count": 18,
   "id": "db620e17",
   "metadata": {},
   "outputs": [
    {
     "name": "stderr",
     "output_type": "stream",
     "text": [
      "The geckodriver version (0.31.0) detected in PATH at c:\\Users\\KIIT\\OneDrive\\codes\\vscodes\\projects\\intel\\scraper\\final\\amazon\\geckodriver.exe might not be compatible with the detected firefox version (126.0.0.8895); currently, geckodriver 0.34.0 is recommended for firefox 126.*, so it is advised to delete the driver in PATH and retry\n"
     ]
    },
    {
     "name": "stdout",
     "output_type": "stream",
     "text": [
      "['https://www.amazon.in/Intel-i5-12600K-Desktop-Processor-Unlocked/dp/B09FX4D72T']\n",
      "Intel i5 12600K Desktop Processor Unlocked\n",
      "Scraping page 1\n"
     ]
    },
    {
     "ename": "IndexError",
     "evalue": "list index out of range",
     "output_type": "error",
     "traceback": [
      "\u001b[1;31m---------------------------------------------------------------------------\u001b[0m",
      "\u001b[1;31mIndexError\u001b[0m                                Traceback (most recent call last)",
      "Cell \u001b[1;32mIn[18], line 52\u001b[0m\n\u001b[0;32m     50\u001b[0m \u001b[38;5;28;01mexcept\u001b[39;00m:\n\u001b[0;32m     51\u001b[0m     \u001b[38;5;28;01mpass\u001b[39;00m\n\u001b[1;32m---> 52\u001b[0m place \u001b[38;5;241m=\u001b[39m other\u001b[38;5;241m.\u001b[39msplit(\u001b[38;5;124m'\u001b[39m\u001b[38;5;124m \u001b[39m\u001b[38;5;124m'\u001b[39m)[\u001b[38;5;241m3\u001b[39m] \u001b[38;5;241m+\u001b[39m\u001b[38;5;124m\"\u001b[39m\u001b[38;5;124m \u001b[39m\u001b[38;5;124m\"\u001b[39m\u001b[38;5;241m+\u001b[39m \u001b[43mother\u001b[49m\u001b[38;5;241;43m.\u001b[39;49m\u001b[43msplit\u001b[49m\u001b[43m(\u001b[49m\u001b[38;5;124;43m\"\u001b[39;49m\u001b[38;5;124;43m \u001b[39;49m\u001b[38;5;124;43m\"\u001b[39;49m\u001b[43m)\u001b[49m\u001b[43m[\u001b[49m\u001b[38;5;241;43m4\u001b[39;49m\u001b[43m]\u001b[49m\n\u001b[0;32m     53\u001b[0m reviewedon\u001b[38;5;241m.\u001b[39mappend(date)\n\u001b[0;32m     54\u001b[0m reviewerplace\u001b[38;5;241m.\u001b[39mappend(place)\n",
      "\u001b[1;31mIndexError\u001b[0m: list index out of range"
     ]
    }
   ],
   "source": [
    "reviews,reviewedon,reviewerplace,reviewratings, prodname, dfs = [],[],[],[],[],[]\n",
    "driver = Firefox()\n",
    "df = pd.DataFrame()\n",
    "driver.maximize_window()\n",
    "k = 0\n",
    "print(x)\n",
    "while k != len(x):\n",
    "    \n",
    "    # print(k)\n",
    "    url = x[k]\n",
    "    try:\n",
    "        driver.get(url)\n",
    "        product_name = url.split(\"/\")[3].replace(\"-\",\" \")\n",
    "        print(product_name, end='\\n')\n",
    "        prodname.append(product_name)\n",
    "    except Exception as ex:\n",
    "        print(ex)\n",
    "    \n",
    "        \n",
    "    try:\n",
    "        all_reviews = driver.find_element(By.CSS_SELECTOR,'#reviews-medley-footer .a-text-bold')\n",
    "        all_reviews.click()\n",
    "    except Exception as ex:\n",
    "        print(ex)\n",
    "\n",
    "    \n",
    "    current_page=0\n",
    "    page_limit=3\n",
    "    while True:\n",
    "        # Extract page number from the URL\n",
    "        page_number = re.search(r'pageNumber=(\\d+)', driver.current_url)\n",
    "        if page_number:\n",
    "            current_page = int(page_number.group(1))\n",
    "        else:\n",
    "            current_page = 1\n",
    "        \n",
    "        print(f\"Scraping page {current_page}\")\n",
    "        \n",
    "        ratings = driver.find_elements(By.XPATH, '//i[@data-hook=\"review-star-rating\"]/span')\n",
    "        loc_date = driver.find_elements(By.XPATH, \"//span[@data-hook='review-date']\")\n",
    "        review = driver.find_elements(By.XPATH, '//span[@data-hook=\"review-body\"]')\n",
    "        \n",
    "        try:\n",
    "            next_btn = driver.find_element(By.CSS_SELECTOR, \"#cm_cr-pagination_bar a\")\n",
    "        except:\n",
    "            pass\n",
    "        for i in range(len(review)):\n",
    "            try:\n",
    "                other, date = loc_date[i].text.split('on')\n",
    "            except:\n",
    "                pass\n",
    "            place = other.split(' ')[3] +\" \"+ other.split(\" \")[4]\n",
    "            reviewedon.append(date)\n",
    "            reviewerplace.append(place)\n",
    "   \n",
    "            try:\n",
    "                rating = ratings[i].get_attribute('textContent')\n",
    "            except:\n",
    "                rating = 'Not Available'\n",
    "            reviewratings.append(rating)\n",
    "            try:\n",
    "                reviews.append(review[i].text)\n",
    "                # print(review[i].text)\n",
    "            except:\n",
    "                pass\n",
    "   \n",
    "        try:\n",
    "            next_btn = driver.find_element(By.XPATH, \"//ul[@class='a-pagination']/li[2]/a\")\n",
    "            if next_btn and 'a-disabled' in next_btn.get_attribute(\"class\"):\n",
    "                print(\"No more pages. Exiting loop.\")\n",
    "                break\n",
    "            else:\n",
    "                next_btn.click()\n",
    "                time.sleep(5)\n",
    "        except NoSuchElementException:\n",
    "            print(\"No 'next' button found. Exiting loop.\")\n",
    "            # print(\"Current URL:\", driver.current_url)\n",
    "            break\n",
    "        except Exception as ex:\n",
    "            print(\"An error occurred:\", ex)\n",
    "            break\n",
    "        if current_page==page_limit:\n",
    "            break\n",
    "    #Data Pre-processing & Cleaning\n",
    "    reviewratings=[str(reviewrating).replace(' out of 5 stars', '') for reviewrating in reviewratings]\n",
    "    print(reviewratings)\n",
    "    \n",
    "    # Removing Punctuations & Converting to Lowercase\n",
    "    for i in range(len(reviews)):\n",
    "        reviews[i] = re.sub(r'[^A-Za-z\\s]', '', reviews[i])  \n",
    "        reviews[i] = reviews[i].lower()\n",
    "    \n",
    "    print(reviews)\n",
    "\n",
    "    #Removing Custom Stop Words\n",
    "    custom_words = [\n",
    "    \"against\", \"above\", \"below\", \"out\", \"under\", \"again\",\n",
    "    \"no\", \"nor\", \"not\", \"don't\", \"should\", \"didn't\",\n",
    "    \"does\", \"doesn't\", \"hadn't\", \"hasn't\", \"haven't\",\n",
    "    \"isn't\", \"mustn\", \"mustn't\", \"should\", \"shouldn't\",\n",
    "    \"was\", \"wasn't\", \"weren\", \"weren't\", \"won't\", \"wouldn't\"\n",
    "     ]\n",
    "\n",
    "    stop_words = set(stopwords.words('english'))\n",
    "    stop_words.update(custom_words)\n",
    "\n",
    "    for i in range(len(reviews)):\n",
    "        words = re.findall(r'\\b\\w+\\b', reviews[i])\n",
    "    \n",
    "        filtered_words = [word for word in words if word.lower() not in stop_words]\n",
    "    \n",
    "        filtered_review = ' '.join(filtered_words)\n",
    "    \n",
    "        reviews[i] = filtered_review\n",
    "\n",
    "\n",
    "    \n",
    "\n",
    "    # Lemmetization\n",
    "    lemmatizer = WordNetLemmatizer()\n",
    "    for i in range(len(reviews)):\n",
    "        words = word_tokenize(reviews[i])\n",
    "        lemmatized_review = ' '.join([lemmatizer.lemmatize(word) for word in words])\n",
    "        reviews[i] = lemmatized_review\n",
    "\n",
    "    \n",
    "    data = {'Reviews':reviews, 'Date':reviewedon,'Place':reviewerplace,\n",
    "       'Rating':reviewratings}\n",
    "    min_length = len(reviews)\n",
    "    df = pd.DataFrame({k:pd.Series(v[:min_length]) for k,v in data.items()})\n",
    "    df['Product'] = product_name\n",
    "    dfs.append(df)\n",
    "    del df\n",
    "    k+=1\n",
    "    \n",
    "finaldata = pd.concat(dfs,axis=0)\n",
    "finaldata.to_csv('../data/Amazon_data.csv',index=False)\n",
    "driver.close()\n",
    "print(\"Finished\")"
   ]
  },
  {
   "cell_type": "code",
   "execution_count": null,
   "id": "a5ee437a-157d-4a08-93e0-4f30bde96acf",
   "metadata": {},
   "outputs": [],
   "source": []
  }
 ],
 "metadata": {
  "kernelspec": {
   "display_name": "Python 3 (ipykernel)",
   "language": "python",
   "name": "python3"
  },
  "language_info": {
   "codemirror_mode": {
    "name": "ipython",
    "version": 3
   },
   "file_extension": ".py",
   "mimetype": "text/x-python",
   "name": "python",
   "nbconvert_exporter": "python",
   "pygments_lexer": "ipython3",
   "version": "3.12.3"
  }
 },
 "nbformat": 4,
 "nbformat_minor": 5
}
