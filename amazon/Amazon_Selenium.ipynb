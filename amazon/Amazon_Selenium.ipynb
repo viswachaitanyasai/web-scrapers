{
 "cells": [
  {
   "cell_type": "code",
   "execution_count": 1,
   "id": "24fd5aea",
   "metadata": {},
   "outputs": [
    {
     "name": "stderr",
     "output_type": "stream",
     "text": [
      "[nltk_data] Downloading package punkt to\n",
      "[nltk_data]     C:\\Users\\KIIT\\AppData\\Roaming\\nltk_data...\n",
      "[nltk_data]   Package punkt is already up-to-date!\n",
      "[nltk_data] Downloading package wordnet to\n",
      "[nltk_data]     C:\\Users\\KIIT\\AppData\\Roaming\\nltk_data...\n"
     ]
    },
    {
     "data": {
      "text/plain": [
       "True"
      ]
     },
     "execution_count": 1,
     "metadata": {},
     "output_type": "execute_result"
    }
   ],
   "source": [
    "from selenium.webdriver.common.by import By\n",
    "from selenium.webdriver.support.ui import WebDriverWait\n",
    "from selenium.webdriver.support import expected_conditions as EC\n",
    "from selenium.common.exceptions import NoSuchElementException\n",
    "import time\n",
    "from selenium.webdriver import Firefox, Chrome\n",
    "import pandas as pd\n",
    "import re\n",
    "from bs4 import BeautifulSoup as bs\n",
    "import tqdm\n",
    "import nltk\n",
    "from nltk.corpus import stopwords\n",
    "from nltk.stem import WordNetLemmatizer\n",
    "from nltk.tokenize import word_tokenize\n",
    "nltk.download('punkt')\n",
    "nltk.download('wordnet')"
   ]
  },
  {
   "cell_type": "code",
   "execution_count": 8,
   "id": "9e747a80",
   "metadata": {},
   "outputs": [],
   "source": [
    "filename = 'amazon_urls.txt'\n",
    "file = open('amazon_urls.txt')"
   ]
  },
  {
   "cell_type": "code",
   "execution_count": 9,
   "id": "958907e5",
   "metadata": {},
   "outputs": [],
   "source": [
    "LIST=re.split(\"\\r\\n|\\n\",file.read())\n",
    "file.close()"
   ]
  },
  {
   "cell_type": "code",
   "execution_count": 10,
   "id": "ce15232a",
   "metadata": {},
   "outputs": [
    {
     "name": "stdout",
     "output_type": "stream",
     "text": [
      "https://www.amazon.com/Intel-i5-12600K-Desktop-Processor-Unlocked/dp/B09FX4D72T\n",
      "https://www.amazon.com/Intel-i7-12700KF-Desktop-Processor-Unlocked/dp/B09FXKHN7M\n"
     ]
    }
   ],
   "source": [
    "x = []\n",
    "for i in LIST:\n",
    "    print(i.split('~')[-1])\n",
    "    x.append(i.split('~')[-1])"
   ]
  },
  {
   "cell_type": "code",
   "execution_count": 11,
   "id": "7da52ecd-b79e-4a52-8676-0460677c522f",
   "metadata": {},
   "outputs": [
    {
     "data": {
      "text/plain": [
       "['https://www.amazon.com/Intel-i5-12600K-Desktop-Processor-Unlocked/dp/B09FX4D72T',\n",
       " 'https://www.amazon.com/Intel-i7-12700KF-Desktop-Processor-Unlocked/dp/B09FXKHN7M']"
      ]
     },
     "execution_count": 11,
     "metadata": {},
     "output_type": "execute_result"
    }
   ],
   "source": [
    "x"
   ]
  },
  {
   "cell_type": "code",
   "execution_count": 12,
   "id": "5b78ee56",
   "metadata": {},
   "outputs": [
    {
     "data": {
      "text/plain": [
       "['amazon_urls', 'txt']"
      ]
     },
     "execution_count": 12,
     "metadata": {},
     "output_type": "execute_result"
    }
   ],
   "source": [
    "filename.split(\".\")"
   ]
  },
  {
   "cell_type": "code",
   "execution_count": 13,
   "id": "d7ffa2aa",
   "metadata": {},
   "outputs": [
    {
     "data": {
      "text/plain": [
       "2"
      ]
     },
     "execution_count": 13,
     "metadata": {},
     "output_type": "execute_result"
    }
   ],
   "source": [
    "len(x)"
   ]
  },
  {
   "cell_type": "code",
   "execution_count": 14,
   "id": "8e438fc9-7664-44de-ab2f-27872f52abe1",
   "metadata": {},
   "outputs": [
    {
     "data": {
      "text/plain": [
       "['https://www.amazon.com/Intel-i5-12600K-Desktop-Processor-Unlocked/dp/B09FX4D72T',\n",
       " 'https://www.amazon.com/Intel-i7-12700KF-Desktop-Processor-Unlocked/dp/B09FXKHN7M']"
      ]
     },
     "execution_count": 14,
     "metadata": {},
     "output_type": "execute_result"
    }
   ],
   "source": [
    "x"
   ]
  },
  {
   "cell_type": "code",
   "execution_count": 15,
   "id": "db620e17",
   "metadata": {},
   "outputs": [
    {
     "name": "stderr",
     "output_type": "stream",
     "text": [
      "The geckodriver version (0.31.0) detected in PATH at c:\\Users\\KIIT\\OneDrive\\codes\\vscodes\\projects\\intel\\scraper\\final\\amazon\\geckodriver.exe might not be compatible with the detected firefox version (126.0.0.8895); currently, geckodriver 0.34.0 is recommended for firefox 126.*, so it is advised to delete the driver in PATH and retry\n"
     ]
    },
    {
     "name": "stdout",
     "output_type": "stream",
     "text": [
      "['https://www.amazon.com/Intel-i5-12600K-Desktop-Processor-Unlocked/dp/B09FX4D72T', 'https://www.amazon.com/Intel-i7-12700KF-Desktop-Processor-Unlocked/dp/B09FXKHN7M']\n",
      "Intel i5 12600K Desktop Processor Unlocked\n",
      "Scraping page 1\n",
      "Scraping page 1\n",
      "No 'next' button found. Exiting loop.\n",
      "['5.0', '5.0', '5.0', '5.0', '5.0', '5.0', '5.0', '5.0', '5.0', '5.0']\n",
      "['nice cpu this replaces my old k pc and what an amazing difference and a pleasant surprise performancewise it runs cool  degrees during stress tests and gaming and it is stable to  ghz havent tried to push it but have little doubt there is sufficient headroom to oc further this has turned out to be an outstanding cpu i recommend this cpu to anyone interested in a lowcost lowheat and stable performance', 'ble operation first class product', 'the k cpu has been an outstanding upgrade from my previous setup delivering a remarkable boost in performance ive been particularly impressed by its cool operation maintaining a stable  degrees even during rigorous stress tests and extended gaming sessions the cpu comfortably reaches  ghz without any stability issues and it seems theres still plenty of room for further overclocking if needed if youre looking for a cpu that offers solid performance low heat and great value the k is a fantastic choice highly recommended for both gaming and general productivity', 'upgraded from an i  to this and its sooooo much faster def get a nicer ddr board so you can upgrade to an th gen when those drop down but for now the k is nice for my rx xt', 'went right into the lga chip socket with no muss no fuss booted right up and the new motherboard took to it like it was designed for it  which it was i needed the k with the integrated graphics and thats what i got im using the zalman cooler httpswwwamazoncomdpbcctbxvpscrefppxyoovdtbproductdetails and i havent had any issues yet', 'purchased for  for cyber monday  and its been excellent in cyberpunk  with ray tracing on and a mix of ultrahigh settings ive reached  fps usually hovering between  with a gigabyte eagle  ive hit  fps in league of legends and with vsync on ive had no noticeable drop from  fps on sale this is an excellent processor and an incredible upgrade from my previous f which was and still is a very capable processor temps are very stable with a peerless assassin cooler i dont believe ive reached or exceeded  degrees celsius i havent overclocked yet  if i even will because current performance is excellent  but ive read that this processor overclocks a fair amount', 'despite of being an older generation it can play any game you put in front of it great deal  worth it', 'decided to finally upgrade from my  or  year old asus x platform and ti sli yes that old to an asus tuf zktuf  oc gamers edition my old k was creating a huge bottleneck issue for my gpu which i installed about a month prior what a difference i must say now that im finally out of the stone age im in awe as to how much things have changed in the pc gaming world this current build smokes everything i throw at it so far which admittedly has only been a few games and benchmarks i paired the processor and gpu with water blocks from an aio corsair system for my cpu and a separate granzon custom loop for the gpu all i can say is wow fast boot times  plus fps in some games like the division  with medium settings at p i highly recommend this processorz motherboardgpu combo are there better options for better performance or there absolutely but for the money i believe that the average gamer would be hard pressed to find any significant issues with that platform i was skeptical at first as this is the first i processor i ever purchased for a pc but as i stated previously i am quite satisfied with my decision to take a leap of faith again i highly recommend this processor cant beat the performance at this price point with a stick', 'per espaol\\nsi tienes dudas de comprar a travs de amazon puedo asegurarte que es  confiable\\nlos procesos de compra son fciles y totalmente seguros el sistema de reastreo que brindan es muy completo y sobretodo las entregas son puntuales\\n\\nyo compr un procesador intel core ik y sin embargo por error de amazon recib un intel core ikf obviamente es un producto muchsimo mejor y ms costoso\\nlleg totalmente sellado bien empaquetado y mucho antes de lo esperado\\n\\nper english\\ni bought an intel core ik processor and for some amazon mistake i ended receiving an intel core ikf a huge mistake from them but oh well im enjoying it so far\\ncouldnt returned it because it was going to take me so much time and cost me even more\\ntotally recomended for videogames streaming and of course any kind of desingning and photo jobs', 'ive played on this for maybe a week or two this thing is serious good ofc purse coming from a guy that used to play on a i rd gen this is a night and day difference this thing can support a tonnn of tabs and runs anything stupid fast would super recommend']\n",
      "Intel i7 12700KF Desktop Processor Unlocked\n",
      "Scraping page 1\n",
      "Scraping page 1\n",
      "No 'next' button found. Exiting loop.\n",
      "['5.0', '5.0', '5.0', '5.0', '5.0', '5.0', '5.0', '5.0', '5.0', '5.0', '5.0', '5.0', '5.0', '5.0', '5.0', '5.0', '5.0', '4.0', '5.0', '5.0']\n",
      "['nice cpu replaces old k pc amazing difference pleasant surprise performancewise run cool degree stress test gaming stable ghz havent tried push little doubt sufficient headroom oc turned outstanding cpu recommend cpu anyone interested lowcost lowheat stable performance', 'ble operation first class product', 'k cpu outstanding upgrade previous setup delivering remarkable boost performance ive particularly impressed cool operation maintaining stable degree even rigorous stress test extended gaming session cpu comfortably reach ghz without stability issue seems there still plenty room overclocking needed youre looking cpu offer solid performance low heat great value k fantastic choice highly recommended gaming general productivity', 'upgraded sooooo much faster def get nicer ddr board upgrade th gen drop k nice rx xt', 'went right lga chip socket mus fuss booted right new motherboard took like designed needed k integrated graphic thats got im using zalman cooler httpswwwamazoncomdpbcctbxvpscrefppxyoovdtbproductdetails havent issue yet', 'purchased cyber monday excellent cyberpunk ray tracing mix ultrahigh setting ive reached fps usually hovering gigabyte eagle ive hit fps league legend vsync ive noticeable drop fps sale excellent processor incredible upgrade previous f still capable processor temp stable peerless assassin cooler dont believe ive reached exceeded degree celsius havent overclocked yet even current performance excellent ive read processor overclocks fair amount', 'despite older generation play game put front great deal worth', 'decided finally upgrade year old asus x platform ti sli yes old asus tuf zktuf oc gamers edition old k creating huge bottleneck issue gpu installed month prior difference must say im finally stone age im awe much thing changed pc gaming world current build smoke everything throw far admittedly game benchmark paired processor gpu water block aio corsair system cpu separate granzon custom loop gpu say wow fast boot time plus fps game like division medium setting p highly recommend processorz motherboardgpu combo better option better performance absolutely money believe average gamer would hard pressed find significant issue platform skeptical first first processor ever purchased pc stated previously quite satisfied decision take leap faith highly recommend processor cant beat performance price point stick', 'per espaol si tienes dudas de comprar travs de amazon puedo asegurarte que e confiable los procesos de compra son fciles totalmente seguros el sistema de reastreo que brindan e muy completo sobretodo la entregas son puntuales yo compr un procesador intel core ik sin embargo por error de amazon recib un intel core ikf obviamente e un producto muchsimo mejor m costoso lleg totalmente sellado bien empaquetado mucho ante de lo esperado per english bought intel core ik processor amazon mistake ended receiving intel core ikf huge mistake oh well im enjoying far couldnt returned going take much time cost even totally recomended videogames streaming course kind desingning photo job', 'ive played maybe week two thing serious good ofc purse coming guy used play rd gen night day difference thing support tonnn tab run anything stupid fast would super recommend', 'as a dedicated gamer i understand the importance of having a powerful processor at the heart of my gaming rig thats why i turned to the intel core ikf gaming desktop processor a true powerhouse that delivers unparalleled gaming performance and versatility lets delve into why the ikf deserves a spot in your setup\\n\\nfirst and foremost lets talk about power with  cores including  performance cores and  efficiency cores the ikf provides an unprecedented level of multitasking prowess whether youre streaming your gameplay to a live audience running multiple applications simultaneously or engaging in intense gaming sessions this processor handles it all with ease\\n\\nbut its not just about the number of cores its also about speed with a maximum turbo frequency of up to  ghz the ikf delivers blistering performance in singlethreaded applications and games ensuring smooth and responsive gameplay even in the most demanding titles say goodbye to lag stuttering and other performance bottlenecks  the ikf keeps you in the game without skipping a beat\\n\\none of the standout features of this processor is its unlocked multiplier allowing for easy overclocking and customization whether youre a seasoned overclocker looking to push the limits or a newcomer eager to explore the world of cpu tuning the ikf offers unparalleled flexibility and control with just a few tweaks you can unleash even more performance from your system and take your gaming experience to new heights\\n\\nbut performance isnt the only thing that matters when it comes to gaming the ikf also boasts integrated intel uhd graphics providing stunning visuals and smooth gameplay right out of the box while dedicated graphics cards still offer the best gaming performance the integrated graphics ensure that you can get up and running quickly without the need for a separate gpu\\n\\nin terms of compatibility the ikf is designed to work seamlessly with the latest ddr memory and pcie  technology ensuring that your system stays futureproofed for years to come plus with support for intels latest platform technologies including thunderbolt  and wifi e you can enjoy lightningfast connectivity and seamless integration with a wide range of peripherals and accessories\\n\\nin conclusion the intel core ikf gaming desktop processor is a gamechanger for gamers and enthusiasts alike with its unmatched performance unlocked overclocking capabilities and advanced features its the perfect choice for anyone looking to build the ultimate gaming rig upgrade to the ikf and experience gaming like never before', 'the intel chip is fast for me and its my first desktop cpu no issues with it can play at any game you throw at it this is a awesome cpu overall i bought this used from geektown and wasnt sure if it wasnt going to work but finally trying it it worked', 'the processor works great however i am unable to use xmp with my current msi motherboard when i enable xmp my system locks up however once i turn it back off i am good to go', 'perfect for my gaming sessions fast and cheap processor', 'i have this paired with my gtx and it runs well minecraft heavily modded with shaders on  forge you can run about  render distance cpu starts to bottleneck even when the game is running on a server at about fps for other less heavy cpu tasks like csgo r and other games run amazing', 'great for rtx', 'worked great thanks', 'it arrived earlier than expected the packaging arrived in good condition so far everything is going well it is easy to install i have noticed that on some occasions when doing algorithms the cpu runs at  and everything else slows down and if you press another key everything crashes', 'i was just going down a cheap route to upgrade a very old dell pc i had windows i rd gen i didnt realize how slow it was until i upgraded its so much faster', 'buen producto recomendado']\n",
      "Finished\n"
     ]
    }
   ],
   "source": [
    "reviews,reviewedon,reviewerplace,reviewratings, prodname, dfs = [],[],[],[],[],[]\n",
    "driver = Firefox()\n",
    "df = pd.DataFrame()\n",
    "driver.maximize_window()\n",
    "k = 0\n",
    "print(x)\n",
    "while k != len(x):\n",
    "    \n",
    "    # print(k)\n",
    "    url = x[k]\n",
    "    try:\n",
    "        driver.get(url)\n",
    "        product_name = url.split(\"/\")[3].replace(\"-\",\" \")\n",
    "        print(product_name, end='\\n')\n",
    "        prodname.append(product_name)\n",
    "    except Exception as ex:\n",
    "        print(ex)\n",
    "    \n",
    "        \n",
    "    try:\n",
    "        all_reviews = driver.find_element(By.CSS_SELECTOR,'#reviews-medley-footer .a-text-bold')\n",
    "        all_reviews.click()\n",
    "    except Exception as ex:\n",
    "        print(ex)\n",
    "\n",
    "    \n",
    "    current_page=0\n",
    "    page_limit=3\n",
    "    while True:\n",
    "        # Extract page number from the URL\n",
    "        page_number = re.search(r'pageNumber=(\\d+)', driver.current_url)\n",
    "        if page_number:\n",
    "            current_page = int(page_number.group(1))\n",
    "        else:\n",
    "            current_page = 1\n",
    "        \n",
    "        print(f\"Scraping page {current_page}\")\n",
    "        \n",
    "        ratings = driver.find_elements(By.XPATH, '//i[@data-hook=\"review-star-rating\"]/span')\n",
    "        loc_date = driver.find_elements(By.XPATH, \"//span[@data-hook='review-date']\")\n",
    "        review = driver.find_elements(By.XPATH, '//span[@data-hook=\"review-body\"]')\n",
    "        \n",
    "        try:\n",
    "            next_btn = driver.find_element(By.CSS_SELECTOR, \"#cm_cr-pagination_bar a\")\n",
    "        except:\n",
    "            pass\n",
    "        for i in range(len(review)):\n",
    "            try:\n",
    "                other, date = loc_date[i].text.split('on')\n",
    "            except:\n",
    "                pass\n",
    "            place = other.split(' ')[3] +\" \"+ other.split(\" \")[4]\n",
    "            reviewedon.append(date)\n",
    "            reviewerplace.append(place)\n",
    "   \n",
    "            try:\n",
    "                rating = ratings[i].get_attribute('textContent')\n",
    "            except:\n",
    "                rating = 'Not Available'\n",
    "            reviewratings.append(rating)\n",
    "            try:\n",
    "                reviews.append(review[i].text)\n",
    "                # print(review[i].text)\n",
    "            except:\n",
    "                pass\n",
    "   \n",
    "        try:\n",
    "            next_btn = driver.find_element(By.XPATH, \"//ul[@class='a-pagination']/li[2]/a\")\n",
    "            if next_btn and 'a-disabled' in next_btn.get_attribute(\"class\"):\n",
    "                print(\"No more pages. Exiting loop.\")\n",
    "                break\n",
    "            else:\n",
    "                next_btn.click()\n",
    "                time.sleep(5)\n",
    "        except NoSuchElementException:\n",
    "            print(\"No 'next' button found. Exiting loop.\")\n",
    "            # print(\"Current URL:\", driver.current_url)\n",
    "            break\n",
    "        except Exception as ex:\n",
    "            print(\"An error occurred:\", ex)\n",
    "            break\n",
    "        if current_page==page_limit:\n",
    "            break\n",
    "    #Data Pre-processing & Cleaning\n",
    "    reviewratings=[str(reviewrating).replace(' out of 5 stars', '') for reviewrating in reviewratings]\n",
    "    print(reviewratings)\n",
    "    \n",
    "    # Removing Punctuations & Converting to Lowercase\n",
    "    for i in range(len(reviews)):\n",
    "        reviews[i] = re.sub(r'[^A-Za-z\\s]', '', reviews[i])  \n",
    "        reviews[i] = reviews[i].lower()\n",
    "    \n",
    "    print(reviews)\n",
    "\n",
    "    #Removing Custom Stop Words\n",
    "    custom_words = [\n",
    "    \"against\", \"above\", \"below\", \"out\", \"under\", \"again\",\n",
    "    \"no\", \"nor\", \"not\", \"don't\", \"should\", \"didn't\",\n",
    "    \"does\", \"doesn't\", \"hadn't\", \"hasn't\", \"haven't\",\n",
    "    \"isn't\", \"mustn\", \"mustn't\", \"should\", \"shouldn't\",\n",
    "    \"was\", \"wasn't\", \"weren\", \"weren't\", \"won't\", \"wouldn't\"\n",
    "     ]\n",
    "\n",
    "    stop_words = set(stopwords.words('english'))\n",
    "    stop_words.update(custom_words)\n",
    "\n",
    "    for i in range(len(reviews)):\n",
    "        words = re.findall(r'\\b\\w+\\b', reviews[i])\n",
    "    \n",
    "        filtered_words = [word for word in words if word.lower() not in stop_words]\n",
    "    \n",
    "        filtered_review = ' '.join(filtered_words)\n",
    "    \n",
    "        reviews[i] = filtered_review\n",
    "\n",
    "\n",
    "    \n",
    "\n",
    "    # Lemmetization\n",
    "    lemmatizer = WordNetLemmatizer()\n",
    "    for i in range(len(reviews)):\n",
    "        words = word_tokenize(reviews[i])\n",
    "        lemmatized_review = ' '.join([lemmatizer.lemmatize(word) for word in words])\n",
    "        reviews[i] = lemmatized_review\n",
    "\n",
    "    \n",
    "    data = {'Reviews':reviews, 'Date':reviewedon,'Place':reviewerplace,\n",
    "       'Rating':reviewratings}\n",
    "    min_length = len(reviews)\n",
    "    df = pd.DataFrame({k:pd.Series(v[:min_length]) for k,v in data.items()})\n",
    "    df['Product'] = product_name\n",
    "    dfs.append(df)\n",
    "    del df\n",
    "    k+=1\n",
    "    \n",
    "finaldata = pd.concat(dfs,axis=0)\n",
    "finaldata.to_csv('../data/Amazon_data.csv',index=False)\n",
    "driver.close()\n",
    "print(\"Finished\")"
   ]
  },
  {
   "cell_type": "code",
   "execution_count": null,
   "id": "a5ee437a-157d-4a08-93e0-4f30bde96acf",
   "metadata": {},
   "outputs": [],
   "source": []
  }
 ],
 "metadata": {
  "kernelspec": {
   "display_name": "Python 3 (ipykernel)",
   "language": "python",
   "name": "python3"
  },
  "language_info": {
   "codemirror_mode": {
    "name": "ipython",
    "version": 3
   },
   "file_extension": ".py",
   "mimetype": "text/x-python",
   "name": "python",
   "nbconvert_exporter": "python",
   "pygments_lexer": "ipython3",
   "version": "3.12.3"
  }
 },
 "nbformat": 4,
 "nbformat_minor": 5
}
