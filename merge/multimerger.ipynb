{
 "cells": [
  {
   "cell_type": "code",
   "execution_count": 1,
   "metadata": {},
   "outputs": [
    {
     "name": "stdout",
     "output_type": "stream",
     "text": [
      "All files have been merged and saved to ../data/all_products_data.csv\n"
     ]
    }
   ],
   "source": [
    "import pandas as pd\n",
    "import os\n",
    "import re\n",
    "\n",
    "names = []\n",
    "\n",
    "filename = 'merge-filename.txt'\n",
    "file = open('merge-filename.txt')\n",
    "LIST=re.split(\"\\r\\n|\\n\",file.read())\n",
    "file.close()\n",
    "for i in LIST:\n",
    "    names.append(i.split('~')[-1])\n",
    "filename.split(\".\")\n",
    "\n",
    "directory_path = '../data/merged-data'\n",
    "\n",
    "dfs = []\n",
    "\n",
    "for name in names:\n",
    "    file_path = os.path.join(directory_path, f\"{name}.csv\")\n",
    "    if os.path.exists(file_path):\n",
    "        df = pd.read_csv(file_path)\n",
    "        dfs.append(df)\n",
    "    else:\n",
    "        print(f\"File not found: {file_path}\")\n",
    "\n",
    "merged_df = pd.concat(dfs, ignore_index=True)\n",
    "\n",
    "output_file_path = os.path.join('../data/all_products_data.csv')\n",
    "merged_df.to_csv(output_file_path, index=False)\n",
    "\n",
    "print(f\"All files have been merged and saved to {output_file_path}\")\n"
   ]
  }
 ],
 "metadata": {
  "kernelspec": {
   "display_name": "Python 3",
   "language": "python",
   "name": "python3"
  },
  "language_info": {
   "codemirror_mode": {
    "name": "ipython",
    "version": 3
   },
   "file_extension": ".py",
   "mimetype": "text/x-python",
   "name": "python",
   "nbconvert_exporter": "python",
   "pygments_lexer": "ipython3",
   "version": "3.12.3"
  }
 },
 "nbformat": 4,
 "nbformat_minor": 2
}
